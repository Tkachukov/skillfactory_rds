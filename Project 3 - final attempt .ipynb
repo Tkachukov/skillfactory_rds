{
 "cells": [
  {
   "cell_type": "code",
   "execution_count": 1,
   "metadata": {},
   "outputs": [],
   "source": [
    "#Загружаем данные и библиотеки для работы с ними:\n",
    "import pandas as pd\n",
    "import numpy as np\n",
    "from datetime import datetime, timedelta\n",
    "df = pd.read_csv('main_task_new.csv')"
   ]
  },
  {
   "cell_type": "code",
   "execution_count": 2,
   "metadata": {},
   "outputs": [
    {
     "name": "stdout",
     "output_type": "stream",
     "text": [
      "Restaurant_id : id_5569\n",
      "City : Paris\n",
      "Cuisine Style : ['European', 'French', 'International']\n",
      "Ranking : 5570.0\n",
      "Rating : 3.5\n",
      "Price Range : $$ - $$$\n",
      "Number of Reviews : 194.0\n",
      "Reviews : [['Good food at your doorstep', 'A good hotel restaurant'], ['12/31/2017', '11/20/2017']]\n",
      "URL_TA : /Restaurant_Review-g187147-d1912643-Reviews-R_Yves-Paris_Ile_de_France.html\n",
      "ID_TA : d1912643\n"
     ]
    }
   ],
   "source": [
    "#Посмотрим на формат типичного значения в каждой колонке:\n",
    "for column in df.columns:\n",
    "    print(column, ':', df[column][0])"
   ]
  },
  {
   "cell_type": "code",
   "execution_count": 5,
   "metadata": {},
   "outputs": [],
   "source": [
    "#Замечаем, что согласно здравому смыслу, URL и идентификатор в Trip Advisor у каждого ресторана \n",
    "#должны быть уникальны, а от колонки, сплошь состоящей из уникальных значений, пользы будет никакой,\n",
    "#так что эти колонки лучше удалить. Колонку Restaurant_id можно оставить, так как в ней - идентификаторы\n",
    "#сетей ресторанов, а не каждого отдельного ресторана.\n",
    "#Принимая это во внимание, отделяем целевую переменную (y) от остальных данных (X).\n",
    "X = df.drop(['Rating', 'URL_TA', 'ID_TA'], axis = 1)  \n",
    "y = df['Rating']"
   ]
  },
  {
   "cell_type": "code",
   "execution_count": 6,
   "metadata": {},
   "outputs": [],
   "source": [
    "#Заполняем пропуски самым популярным значением:\n",
    "for column in X.columns:\n",
    "    X[column] = X[column].fillna(X[column].value_counts().index[0])"
   ]
  },
  {
   "cell_type": "code",
   "execution_count": 7,
   "metadata": {},
   "outputs": [],
   "source": [
    "#Чуть не забыл зафиксировать random seed:\n",
    "RANDOM_SEED = 42"
   ]
  },
  {
   "cell_type": "code",
   "execution_count": 8,
   "metadata": {},
   "outputs": [
    {
     "data": {
      "text/plain": [
       "array(['$$ - $$$', '$$$$', '$'], dtype=object)"
      ]
     },
     "execution_count": 8,
     "metadata": {},
     "output_type": "execute_result"
    }
   ],
   "source": [
    "#Для начала займёмся колонкой с диапазонами цен. Разберёмся, что там вообще за значения:\n",
    "X['Price Range'].unique()"
   ]
  },
  {
   "cell_type": "code",
   "execution_count": 9,
   "metadata": {},
   "outputs": [],
   "source": [
    "#Всего три вида значений, и, очевидно, '$' означает низкие цены,\n",
    "#'$$ - $$$' - средние, а '$$$$' - высокие. Обычная ординальная переменная, которую можно представить\n",
    "#в числовом формате, превратив '$' в нули, '$$ - $$$' - в единицы, а '$$$$' - в двойки.\n",
    "def price(value):\n",
    "    if value == '$':\n",
    "        return 0\n",
    "    elif value == '$$ - $$$':\n",
    "        return 1\n",
    "    elif value == '$$$$':\n",
    "        return 2\n",
    "X['Price Range'] = X['Price Range'].apply(price)"
   ]
  },
  {
   "cell_type": "code",
   "execution_count": 10,
   "metadata": {},
   "outputs": [
    {
     "data": {
      "text/plain": [
       "11909"
      ]
     },
     "execution_count": 10,
     "metadata": {},
     "output_type": "execute_result"
    }
   ],
   "source": [
    "#Посмотрим, информация о скольки ресторанных сетях у нас есть:\n",
    "len(X['Restaurant_id'].unique())"
   ]
  },
  {
   "cell_type": "code",
   "execution_count": 11,
   "metadata": {},
   "outputs": [],
   "source": [
    "#Почти 12 тысяч ресторанных сетей - это, конечно, слишком, слишком много для создания дамми.\n",
    "#Давайте оставим информацию о 20 самых крупных сетях, остальные объединим под обозначением \"Other networks\".\n",
    "all_networks = X['Restaurant_id'].value_counts()\n",
    "top_networks = all_networks[:20].index\n",
    "\n",
    "def top_network(network):\n",
    "    if network in top_networks:\n",
    "        return network\n",
    "    else:\n",
    "        return 'Other networks'\n",
    "    \n",
    "X['Restaurant_id'] = X['Restaurant_id'].apply(top_network)"
   ]
  },
  {
   "cell_type": "code",
   "execution_count": 12,
   "metadata": {},
   "outputs": [],
   "source": [
    "#А теперь можно создать дамми для ресторанных сетей и добавить их к нашей модели:\n",
    "network_dummies = pd.get_dummies(X['Restaurant_id'])\n",
    "for column in network_dummies.columns:\n",
    "    X[column] = network_dummies[column]"
   ]
  },
  {
   "cell_type": "code",
   "execution_count": 13,
   "metadata": {},
   "outputs": [],
   "source": [
    "#Информация о странах, в которых находятся города(взята из учебника географии :-))\n",
    "\n",
    "countries = {'France':['Paris', 'Lyon'],'Sweden':['Stockholm'],'United Kingdom':['London', 'Edinburgh'], \n",
    "            'Germany':['Berlin', 'Hamburg', 'Munich'], 'Spain':['Madrid', 'Barcelona'], \n",
    "            'Italy':['Rome', 'Milan'], 'Slovenia':['Ljubljana'], 'Austria':['Vienna'], 'Portugal':['Lisbon', 'Oporto'], \n",
    "            'Ireland':['Dublin'], 'Switzerland':['Zurich', 'Geneva'], 'Belgium':['Brussels'],\n",
    "            'Poland':['Warsaw', 'Krakow'], 'Hungary':['Budapest'], 'Denmark':['Copenhagen'], \n",
    "            'Netherlands':['Amsterdam'], 'Czechia':['Prague'], 'Norway':['Oslo'],\n",
    "            'Finland':['Helsinki'], 'Slovakia':['Bratislava'], 'Greece':['Athens'], 'Luxembourg':['Luxembourg']}\n",
    "\n",
    "#Добавим её к нашей модели:\n",
    "\n",
    "def return_country(city):\n",
    "    for country in countries:\n",
    "        if city in countries[country]:\n",
    "            return country\n",
    "            break\n",
    "            \n",
    "X['Country'] = X['City'].apply(return_country)"
   ]
  },
  {
   "cell_type": "code",
   "execution_count": 14,
   "metadata": {},
   "outputs": [],
   "source": [
    "#Информация о численности населения городов(взята из Википедии, выражена в тысячах людей):\n",
    "\n",
    "city_populations = {'Paris':2244, 'Stockholm':960, 'London':8817, 'Berlin':3520, 'Munich':1450, 'Oporto':238,\n",
    "       'Milan':1389, 'Bratislava':426, 'Vienna':1889, 'Rome':2856, 'Barcelona':1620, 'Madrid':3223,\n",
    "       'Dublin':1173, 'Brussels':177, 'Zurich':403, 'Warsaw':1794, 'Budapest':1779, 'Copenhagen':613,\n",
    "       'Amsterdam':873, 'Lyon':484, 'Hamburg':1747, 'Lisbon':506, 'Prague':1300, 'Oslo':693,\n",
    "       'Helsinki':656, 'Edinburgh':488, 'Geneva':199, 'Ljubljana':280, 'Athens':3100,\n",
    "       'Luxembourg':115, 'Krakow':1300}\n",
    "\n",
    "#Добавим её к нашей модели:\n",
    "\n",
    "def city_population(city):\n",
    "    return city_populations[city]\n",
    "\n",
    "X['City population, thousands'] = X['City'].apply(city_population)"
   ]
  },
  {
   "cell_type": "code",
   "execution_count": 15,
   "metadata": {},
   "outputs": [],
   "source": [
    "#Информация о численности населения интересующих нас стран (в тысячах людей, на 2018 год, с Википедии):\n",
    "\n",
    "country_populations = {'France':64991, 'United Kingdom':67142, 'Germany':83124,\n",
    "                       'Luxembourg':604, 'Netherlands':17060, 'Austria':8891,\n",
    "                       'Belgium':11482, 'Ireland':4819, 'Switzerland':8526,\n",
    "                       'Greece':10522, 'Italy':60627, 'Portugal':10256, 'Slovenia':2078, 'Spain':46693,\n",
    "                       'Czechia':10666, 'Hungary':9708, 'Poland':37922, 'Slovakia':5453,\n",
    "                       'Denmark':5752, 'Finland':5523, 'Norway':5338, 'Sweden':9972}\n",
    "\n",
    "#Добавим её в датасет:\n",
    "\n",
    "def country_population(country):\n",
    "    return country_populations[country]\n",
    "\n",
    "X['Country population, thousands'] = X['Country'].apply(country_population)"
   ]
  },
  {
   "cell_type": "code",
   "execution_count": 16,
   "metadata": {},
   "outputs": [],
   "source": [
    "#Информация о средних доходах жителей этих городов(в евро?):\n",
    "\n",
    "city_incomes = {'Paris':3203.08, 'Stockholm':3331.89, 'London':4180.91, 'Berlin':3423.77, 'Munich':3640.46, 'Oporto':238,\n",
    "       'Milan':1975.40, 'Bratislava':1333.71, 'Vienna':2470.54, 'Rome':1684.64, 'Barcelona':1928.85, 'Madrid':1933.47,\n",
    "       'Dublin':3321.19, 'Brussels':2845.81, 'Zurich':7687.71, 'Warsaw':1105.76, 'Budapest':932.90, 'Copenhagen':3739.39,\n",
    "       'Amsterdam':3711.59, 'Lyon':2748.17, 'Hamburg':3140.50, 'Lisbon':1129.83, 'Prague':1586.31, 'Oslo':3718.89,\n",
    "       'Helsinki':2822.70, 'Edinburgh':2827.26, 'Geneva':6706.51, 'Ljubljana':1453.95, 'Athens':896.22,\n",
    "       'Luxembourg':4490.63, 'Krakow':981.58}\n",
    "\n",
    "#Добавим её в датасет:\n",
    "\n",
    "def give_city_incomes(city):\n",
    "    return city_incomes[city]\n",
    "\n",
    "X['City average incomes'] = X['City'].apply(give_city_incomes)"
   ]
  },
  {
   "cell_type": "code",
   "execution_count": 17,
   "metadata": {},
   "outputs": [],
   "source": [
    "#А теперь займёмся созданием dummy-переменных для городов и стран:\n",
    "city_dummies = pd.get_dummies(X['City'])\n",
    "for column in city_dummies.columns:\n",
    "    X[column] = city_dummies[column]\n",
    "    \n",
    "country_dummies = pd.get_dummies(X['Country'])\n",
    "for column in country_dummies.columns:\n",
    "    X[column] = country_dummies[column]"
   ]
  },
  {
   "cell_type": "code",
   "execution_count": 19,
   "metadata": {},
   "outputs": [],
   "source": [
    "#Каждая строка в колонке Cuisine Style на самом деле представляет собой данные в виде простой текстовой строки.\n",
    "#Это плохо, нужно превратить эти данные в список кухонь:\n",
    "X['Cuisine Style'] = X['Cuisine Style'].apply(lambda x:x.split(sep = ', '))"
   ]
  },
  {
   "cell_type": "code",
   "execution_count": 20,
   "metadata": {},
   "outputs": [],
   "source": [
    "#Избавимся от всех лиших символов - квадратных скобок и кавычек:\n",
    "def symbol_remover(item):\n",
    "    new_item = []\n",
    "    for string in item:\n",
    "        new_string = string\n",
    "        for symbol in ['[', ']', \"'\"]:\n",
    "            new_string = new_string.replace(symbol, '')\n",
    "        new_item.append(new_string)\n",
    "    return new_item\n",
    "\n",
    "X['Cuisine Style'] = X['Cuisine Style'].apply(symbol_remover)"
   ]
  },
  {
   "cell_type": "code",
   "execution_count": 21,
   "metadata": {},
   "outputs": [],
   "source": [
    "#Типов кухонь много. Я не хочу загружать свою первую модель таким большим количеством дамми,\n",
    "#поэтому я решил разделить все эти типы кухонь на категории:\n",
    "categories = {\n",
    "'European cuisine' : ['Austrian', 'Belgian','British','Danish','Dutch',\n",
    "                       'European','French','German','Irish','Italian','Mediterranean','Norwegian','Portuguese',\n",
    "                       'Scandinavian', 'Scottish','Spanish','Swedish', 'Swiss','Welsh', 'Albanian','Armenian', 'Balti', \n",
    "                       'Central European','Czech','Croatian','Eastern European', 'Greek','Hungarian','Latvian',\n",
    "                       'Mediterranean','Polish','Romanian','Russian','Slovenian','Ukrainian'],\n",
    "'West&Central Asian Cuisine' :['Afghani','Arabic','Armenian','Azerbaijani','Asian','Central Asian',\n",
    "                               'Georgian','Egyptian','Israeli','Lebanese','Middle Eastern','Minority Chinese','Mongolian',\n",
    "                               'Persian', 'Turkish', 'Uzbek', 'Xinjiang'],\n",
    "'East Asian Cuisine': ['Asian','Bangladeshi','Burmese','Cambodian','Chinese','Filipino','Fujian','Indian', 'Indonesian',\n",
    "                       'Malaysian','Japanese','Korean','Minority Chinese','Nepali','Pakistani','Sri Lankan',\n",
    "                       'Singaporean','Taiwanese','Thai','Tibetan','Vietnamese','Yunnan'],\n",
    "'American Cuisine' : ['American', 'Argentinean','Brazilian','Cajun & Creole', 'Canadian','Caribbean','Central American',\n",
    "                      'Chilean', 'Colombian','Cuban','Ecuadorean','Jamaican','Latin','Mexican','Native American',\n",
    "                      'Peruvian','Salvadoran','South American', 'Southwestern', 'Venezuelan'],\n",
    "'Other Cuisine' : ['African','Ethiopian','Moroccan','Tunisian','Hawaiian','Polynesian','Fusion','International'],\n",
    "'Drinking Place' : ['Bar','Brew Pub','Delicatessen','Gastropub','Pub','Wine Bar'],\n",
    "'Meat House' : ['Barbecue','Grill','Steakhouse'],\n",
    "'Seafood' : ['Seafood','Sushi'],\n",
    "'Diner' : ['Diner','Soups'],\n",
    "'Fast food' : ['Cafe','Fast Food','Pizza','Street Food',],\n",
    "'Vegetarian' : ['Vegan Options','Vegetarian Friendly'],\n",
    "'Religious' : ['Halal','Kosher']\n",
    "}\n",
    "\n",
    "#Упрощаем колонку с типами кухонь, группируя значения в них:\n",
    "def list_simplifier(cuisines):\n",
    "    cuisine_list = []\n",
    "    for cuisine in cuisines:\n",
    "        for category in categories:\n",
    "            if cuisine in categories[category] and category not in cuisine_list:\n",
    "                cuisine_list.append(category)\n",
    "    return cuisine_list\n",
    "\n",
    "X['Cuisine Style'] = X['Cuisine Style'].apply(list_simplifier)"
   ]
  },
  {
   "cell_type": "code",
   "execution_count": 22,
   "metadata": {},
   "outputs": [
    {
     "name": "stderr",
     "output_type": "stream",
     "text": [
      "<ipython-input-22-fd411158e361>:2: DeprecationWarning: The default dtype for empty Series will be 'object' instead of 'float64' in a future version. Specify a dtype explicitly to silence this warning.\n",
      "  X['Cuisine Style'] = X['Cuisine Style'].apply(lambda x: pd.Series(x)) #Вначале превратим списку кухонь в объекты Series.\n"
     ]
    }
   ],
   "source": [
    "#Теперь создадим дамми для типов кухонь:\n",
    "X['Cuisine Style'] = X['Cuisine Style'].apply(lambda x: pd.Series(x)) #Вначале превратим списку кухонь в объекты Series.\n",
    "\n",
    "cuisine_dummies = pd.get_dummies(X['Cuisine Style'])\n",
    "for column in cuisine_dummies.columns:\n",
    "    X[column] = cuisine_dummies[column]"
   ]
  },
  {
   "cell_type": "code",
   "execution_count": 23,
   "metadata": {},
   "outputs": [],
   "source": [
    "#Перейдём к колонке с отзывами. Что нас здесь интересует в первую очередь - дата оставления последнего отзыва.\n",
    "#Превратим её из строк в списки:\n",
    "\n",
    "X['Reviews'] = X['Reviews'].apply(lambda x:x.split(sep = ', '))"
   ]
  },
  {
   "cell_type": "code",
   "execution_count": 24,
   "metadata": {},
   "outputs": [],
   "source": [
    "#Избавимся от лишних квадратных скобок и кавычек и здесь:\n",
    "X['Reviews'] = X['Reviews'].apply(symbol_remover)"
   ]
  },
  {
   "cell_type": "code",
   "execution_count": 25,
   "metadata": {},
   "outputs": [],
   "source": [
    "#Перведём даты в формат datetime и вынесем их в отдельную колонку:\n",
    "def date_parser(datecolumn):\n",
    "    dates_strings = []\n",
    "    dates = []\n",
    "    for item in datecolumn:\n",
    "        for digit in ['0','1','2','3','4','5','6','7','8','9']:\n",
    "            if digit in item and len(item)>5 and item[2]=='/' and item[5]=='/':\n",
    "                    if item not in dates:\n",
    "                        dates_strings.append(item)\n",
    "                        break\n",
    "    for date in dates_strings:\n",
    "        new_date = datetime.strptime(date, '%m/%d/%Y')\n",
    "        dates.append(new_date)\n",
    "    return dates\n",
    "\n",
    "X['Review dates'] = X['Reviews'].apply(date_parser)"
   ]
  },
  {
   "cell_type": "code",
   "execution_count": 26,
   "metadata": {},
   "outputs": [],
   "source": [
    "#Какую отсюда можно вынести информацию?\n",
    "#Конечно, можно вынести отсюда дату оставления последнего отзыва.\n",
    "#Также можно вынести информацию о количестве дней между оставлением последнего и предпоследнего отзывов.\n",
    "def latest_review(date_pair):\n",
    "    if len(date_pair)==0:\n",
    "        return None\n",
    "    elif len(date_pair)==1:\n",
    "        return date_pair[0]\n",
    "    else:\n",
    "        if date_pair[0]>date_pair[1]:\n",
    "            return date_pair[0]\n",
    "        else:\n",
    "            return date_pair[1]\n",
    "    \n",
    "def days_between_reviews(date_pair):\n",
    "    if len(date_pair) in [0, 1]:\n",
    "        return None\n",
    "    else:\n",
    "        if date_pair[0]>date_pair[1]:\n",
    "            return (date_pair[0]-date_pair[1]).days\n",
    "        else:\n",
    "            return (date_pair[1]-date_pair[0]).days\n",
    "    \n",
    "X['Latest review'] = X['Review dates'].apply(latest_review)\n",
    "X['Days between two latest reviews'] = X['Review dates'].apply(days_between_reviews)"
   ]
  },
  {
   "cell_type": "code",
   "execution_count": 27,
   "metadata": {},
   "outputs": [],
   "source": [
    "#Представим дату оставления последнего отзыва в виде трёх отдельных признаков - года, месяца и дня:\n",
    "def lr_year(date):\n",
    "    return date.year\n",
    "\n",
    "def lr_month(date):\n",
    "    return date.month\n",
    "\n",
    "def lr_day(date):\n",
    "    return date.day\n",
    "\n",
    "X['Latest review year'] = X['Latest review'].apply(lr_year)\n",
    "X['Latest review month'] = X['Latest review'].apply(lr_month)\n",
    "X['Latest review day'] = X['Latest review'].apply(lr_day)"
   ]
  },
  {
   "cell_type": "code",
   "execution_count": 31,
   "metadata": {},
   "outputs": [],
   "source": [
    "#В новосозданных признаках должны быть пропуски, так как в колонке Reviews были пустые списки.\n",
    "#Заполним и их:\n",
    "for column in ['Latest review year', 'Latest review month', 'Latest review day', 'Days between two latest reviews']:    \n",
    "    X[column] = X[column].fillna(X[column].value_counts().index[0])"
   ]
  },
  {
   "cell_type": "code",
   "execution_count": 28,
   "metadata": {},
   "outputs": [],
   "source": [
    "#Модель почти готова. Остаётся лишь удалить лишние теперь категориальные переменные:\n",
    "X = X.drop(['Reviews', 'Review dates', 'Latest review', 'Restaurant_id', 'Country', 'Cuisine Style', 'City'], axis = 1)"
   ]
  },
  {
   "cell_type": "code",
   "execution_count": 33,
   "metadata": {},
   "outputs": [
    {
     "name": "stdout",
     "output_type": "stream",
     "text": [
      "MAE: 0.20821149999999997\n"
     ]
    }
   ],
   "source": [
    "#Модель готова. Можно начинать тестовый запуск:\n",
    "from sklearn.model_selection import train_test_split\n",
    "X_train, X_test, y_train, y_test = train_test_split(X, y, test_size=0.25)\n",
    "\n",
    "from sklearn.ensemble import RandomForestRegressor\n",
    "from sklearn import metrics\n",
    "regr = RandomForestRegressor(n_estimators=100)\n",
    "regr.fit(X_train, y_train)\n",
    "y_pred = regr.predict(X_test)\n",
    "\n",
    "print('MAE:', metrics.mean_absolute_error(y_test, y_pred))"
   ]
  }
 ],
 "metadata": {
  "kernelspec": {
   "display_name": "Python 3",
   "language": "python",
   "name": "python3"
  },
  "language_info": {
   "codemirror_mode": {
    "name": "ipython",
    "version": 3
   },
   "file_extension": ".py",
   "mimetype": "text/x-python",
   "name": "python",
   "nbconvert_exporter": "python",
   "pygments_lexer": "ipython3",
   "version": "3.8.5"
  }
 },
 "nbformat": 4,
 "nbformat_minor": 4
}
